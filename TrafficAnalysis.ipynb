{
 "cells": [
  {
   "cell_type": "code",
   "execution_count": 8,
   "id": "f152f24d-8c68-4720-92f7-0eabd54491ce",
   "metadata": {},
   "outputs": [],
   "source": [
    "import numpy as np\n",
    "taxi = np.genfromtxt('/home/sarvadubey/Desktop/Numpy/P1/NumpyProject1/data/nyc_taxis.csv', delimiter = ',', skip_header = True)"
   ]
  },
  {
   "cell_type": "markdown",
   "id": "c9274ddc-80fd-43d0-be24-8f6686acaefa",
   "metadata": {},
   "source": [
    "## MEAN SPEED OF THE TAXI"
   ]
  },
  {
   "cell_type": "code",
   "execution_count": 9,
   "id": "206f075b-c547-417d-8119-b6b3fffc2967",
   "metadata": {},
   "outputs": [],
   "source": [
    "speed = taxi[:,7]/(taxi[:,8]/3600)  ## Distance Data/(Time in seconds/36000)"
   ]
  },
  {
   "cell_type": "code",
   "execution_count": 11,
   "id": "a3f12d64-babb-48ed-b512-3885afcfa00d",
   "metadata": {},
   "outputs": [
    {
     "name": "stdout",
     "output_type": "stream",
     "text": [
      "32.24258580925573\n"
     ]
    }
   ],
   "source": [
    "mean = speed.mean()\n",
    "print(mean)  #Mean speed of all the rides"
   ]
  },
  {
   "cell_type": "markdown",
   "id": "55db3bc3-7d79-4bd8-9034-ea0ac544bfe6",
   "metadata": {},
   "source": [
    "## Number of rides taken in February"
   ]
  },
  {
   "cell_type": "code",
   "execution_count": 12,
   "id": "f8887537-7b82-43f1-baf9-1e9e5aaa342c",
   "metadata": {},
   "outputs": [
    {
     "name": "stdout",
     "output_type": "stream",
     "text": [
      "13333\n"
     ]
    }
   ],
   "source": [
    "# Pickup Months Feb is denoted as 2\n",
    "feb_rides = taxi[taxi[:,1]==2,1]  #(Rows with 2: 2nd Coloumn)\n",
    "print(feb_rides.shape[0])  #Number of rides taken in february"
   ]
  },
  {
   "cell_type": "markdown",
   "id": "4f7bc900-729a-46e9-a1d5-c63a9470fa33",
   "metadata": {},
   "source": [
    "## Number of rides with tip >= %50"
   ]
  },
  {
   "cell_type": "code",
   "execution_count": 16,
   "id": "0ebfb206-30ae-4ad6-903b-346ba46ea499",
   "metadata": {},
   "outputs": [
    {
     "name": "stdout",
     "output_type": "stream",
     "text": [
      "20\n"
     ]
    }
   ],
   "source": [
    "tip_more = taxi[taxi[:,-3] >= 50, -3]\n",
    "print(tip_more.shape[0]) #Number of rides with tip >= %50"
   ]
  },
  {
   "cell_type": "markdown",
   "id": "c5efc711-9be8-4d7b-8492-e0090121e4a2",
   "metadata": {},
   "source": [
    "## Number of rides where the drop was JFK aiport "
   ]
  },
  {
   "cell_type": "code",
   "execution_count": 17,
   "id": "3933b0f0-c288-4b78-8d8b-c8e3d12216db",
   "metadata": {},
   "outputs": [
    {
     "name": "stdout",
     "output_type": "stream",
     "text": [
      "11832\n"
     ]
    }
   ],
   "source": [
    "# Drop location code of JFK airport is 2\n",
    "drop_at_jfk = taxi[taxi[:,6] == 2, 6]\n",
    "print(drop_at_jfk.shape[0]) #Number of rides where the drop was JFK aiport"
   ]
  },
  {
   "cell_type": "code",
   "execution_count": null,
   "id": "ee843046-cc00-4714-926f-e821e9bcf9a5",
   "metadata": {},
   "outputs": [],
   "source": []
  }
 ],
 "metadata": {
  "kernelspec": {
   "display_name": "Python 3 (ipykernel)",
   "language": "python",
   "name": "python3"
  },
  "language_info": {
   "codemirror_mode": {
    "name": "ipython",
    "version": 3
   },
   "file_extension": ".py",
   "mimetype": "text/x-python",
   "name": "python",
   "nbconvert_exporter": "python",
   "pygments_lexer": "ipython3",
   "version": "3.12.3"
  }
 },
 "nbformat": 4,
 "nbformat_minor": 5
}
